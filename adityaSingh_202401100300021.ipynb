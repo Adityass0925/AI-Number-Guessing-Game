{
  "nbformat": 4,
  "nbformat_minor": 0,
  "metadata": {
    "colab": {
      "provenance": [],
      "toc_visible": true
    },
    "kernelspec": {
      "name": "python3",
      "display_name": "Python 3"
    },
    "language_info": {
      "name": "python"
    }
  },
  "cells": [
    {
      "cell_type": "code",
      "execution_count": 4,
      "metadata": {
        "colab": {
          "base_uri": "https://localhost:8080/"
        },
        "id": "Xvc6OSDAgXt1",
        "outputId": "805da4f0-bf32-4d11-a10a-44f29c8ffc9d"
      },
      "outputs": [
        {
          "output_type": "stream",
          "name": "stdout",
          "text": [
            "Guess the number between 1 and 100!\n",
            "Enter your guess: 6\n",
            "Too low.\n",
            "Enter your guess: 45\n",
            "Too high.\n",
            "Enter your guess: 30\n",
            "Too low.\n",
            "Enter your guess: 40\n",
            "Too high.\n",
            "Enter your guess: 35\n",
            "Too high.\n",
            "Enter your guess: 33\n",
            "Too low.\n",
            "Enter your guess: 34\n",
            "Congratulations! You guessed the number in 7 attempts!\n",
            "Game Over.\n"
          ]
        }
      ],
      "source": [
        "import random\n",
        "\n",
        "def user_guess_number(target):\n",
        "    \"\"\"User guesses the number while AI provides feedback.\"\"\"\n",
        "    attempts = 0\n",
        "    while True:\n",
        "        guess = int(input(\"Enter your guess: \"))\n",
        "        attempts += 1\n",
        "\n",
        "        if guess < target:\n",
        "            print(\"Too low.\")\n",
        "        elif guess > target:\n",
        "            print(\"Too high.\")\n",
        "        else:\n",
        "            print(f\"Congratulations! You guessed the number in {attempts} attempts!\")\n",
        "            break\n",
        "\n",
        "def main():\n",
        "    target = random.randint(1, 100)\n",
        "    print(\"Guess the number between 1 and 100!\")\n",
        "    user_guess_number(target)\n",
        "    print(\"Game Over.\")\n",
        "\n",
        "if __name__ == \"__main__\":\n",
        "    main()\n"
      ]
    }
  ]
}